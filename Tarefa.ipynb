{
 "cells": [
  {
   "cell_type": "markdown",
   "id": "082f12f1-f37c-4c19-889a-1ef980727bc6",
   "metadata": {},
   "source": [
    "Proposta: Desenvolver um algoritmo em Python que gere a tabela-verdade que demostre a \n",
    "propriedade do "
   ]
  },
  {
   "cell_type": "markdown",
   "id": "055741dc-8a7f-466d-8acf-977744f6c0b2",
   "metadata": {},
   "source": [
    "**Dilema Construtivo (DC) - ((p→q)∧(r→s)∧(p∨r))→(q∨s)**"
   ]
  },
  {
   "cell_type": "code",
   "execution_count": 41,
   "id": "ce05e986-919e-4a7b-9d67-7a029448e39f",
   "metadata": {},
   "outputs": [
    {
     "name": "stdout",
     "output_type": "stream",
     "text": [
      "p  |  q  |  r  |  s  | p→q | r→s | p∨r | q∨s |   (p→q)∧(r→s)∧(p∨r))   |    ((p→q)∧(r→s)∧(p∨r))→(q∨s)\n",
      "F  |  F  |  F  |  F  |  V  |  V  |  F  |  F  |            F            |                    V\n",
      "F  |  F  |  F  |  V  |  V  |  V  |  F  |  V  |            F            |                    V\n",
      "F  |  F  |  V  |  F  |  V  |  F  |  V  |  F  |            F            |                    V\n",
      "F  |  F  |  V  |  V  |  V  |  V  |  V  |  V  |            V            |                    V\n",
      "F  |  V  |  F  |  F  |  V  |  V  |  F  |  V  |            F            |                    V\n",
      "F  |  V  |  F  |  V  |  V  |  V  |  F  |  V  |            F            |                    V\n",
      "F  |  V  |  V  |  F  |  V  |  F  |  V  |  V  |            F            |                    V\n",
      "F  |  V  |  V  |  V  |  V  |  V  |  V  |  V  |            V            |                    V\n",
      "V  |  F  |  F  |  F  |  F  |  V  |  V  |  F  |            F            |                    V\n",
      "V  |  F  |  F  |  V  |  F  |  V  |  V  |  V  |            F            |                    V\n",
      "V  |  F  |  V  |  F  |  F  |  F  |  V  |  F  |            F            |                    V\n",
      "V  |  F  |  V  |  V  |  F  |  V  |  V  |  V  |            F            |                    V\n",
      "V  |  V  |  F  |  F  |  V  |  V  |  V  |  V  |            V            |                    V\n",
      "V  |  V  |  F  |  V  |  V  |  V  |  V  |  V  |            V            |                    V\n",
      "V  |  V  |  V  |  F  |  V  |  F  |  V  |  V  |            F            |                    V\n",
      "V  |  V  |  V  |  V  |  V  |  V  |  V  |  V  |            V            |                    V\n"
     ]
    }
   ],
   "source": [
    "#Fazendo o cabeçalho do print com os passos e proposições\n",
    "print (f\"p  |  q  |  r  |  s  | p→q | r→s | p∨r | q∨s |   (p→q)∧(r→s)∧(p∨r))   |    ((p→q)∧(r→s)∧(p∨r))→(q∨s)\")\n",
    "for a in [0, 1]:\n",
    "    for b in [0, 1]:\n",
    "        for c in [0, 1]:\n",
    "            for d in [0, 1]:\n",
    "                #Alterando os valores 0 e 1 pora V e F e colocando as proposições\n",
    "                if a == 0:\n",
    "                    p=\"F\"\n",
    "                else:\n",
    "                    p=\"V\"\n",
    "                if b == 0:\n",
    "                    q=\"F\"\n",
    "                else:\n",
    "                    q=\"V\"\n",
    "                if c == 0:\n",
    "                    r=\"F\"\n",
    "                else:\n",
    "                    r=\"V\"\n",
    "                if d == 0:\n",
    "                    s=\"F\"\n",
    "                else:\n",
    "                    s=\"V\"\n",
    "                #fazendo P -> Q\n",
    "                if p ==\"V\" and q == \"F\":\n",
    "                    PQ=\"F\"\n",
    "                else:\n",
    "                    PQ = \"V\"\n",
    "                #fazendo R -> S\n",
    "                if r == \"V\" and s == \"F\":\n",
    "                    RS = \"F\"\n",
    "                else: \n",
    "                    RS = \"V\"\n",
    "                #fazendo P OU R\n",
    "                if p ==\"V\" or r == \"V\":\n",
    "                    PR =\"V\"\n",
    "                else:\n",
    "                    PR = \"F\"\n",
    "                #fazendo Q OU S\n",
    "                if q == \"V\" or s == \"V\":\n",
    "                    QS = \"V\"\n",
    "                else:\n",
    "                    QS = \"F\"\n",
    "\n",
    "                # fazendo (p→q)∧(r→s)∧(p∨r))\n",
    "                if PQ == \"V\" and RS == \"V\" and PR == \"V\":\n",
    "                    parte = \"V\"\n",
    "                else:\n",
    "                    parte = \"F\"\n",
    "\n",
    "                if parte == \"V\" and QS == \"F\":\n",
    "                    dilema == \"F\"\n",
    "                else:  dilema == \"V\"\n",
    "                    \n",
    "                \n",
    "                    \n",
    "                \n",
    "                print(f\"{p}  |  {q}  |  {r}  |  {s}  |  {PQ}  |  {RS}  |  {PR}  |  {QS}  |            {parte}            |                    {dilema}\")\n",
    "                \n",
    "                #TrabalhoFinalizado"
   ]
  },
  {
   "cell_type": "code",
   "execution_count": null,
   "id": "ca8ba7d0-c17c-44f6-a15d-c9a8256f0e18",
   "metadata": {},
   "outputs": [],
   "source": []
  }
 ],
 "metadata": {
  "kernelspec": {
   "display_name": "Python 3 (ipykernel)",
   "language": "python",
   "name": "python3"
  },
  "language_info": {
   "codemirror_mode": {
    "name": "ipython",
    "version": 3
   },
   "file_extension": ".py",
   "mimetype": "text/x-python",
   "name": "python",
   "nbconvert_exporter": "python",
   "pygments_lexer": "ipython3",
   "version": "3.12.4"
  }
 },
 "nbformat": 4,
 "nbformat_minor": 5
}
